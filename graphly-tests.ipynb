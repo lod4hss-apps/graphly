{
 "cells": [
  {
   "cell_type": "markdown",
   "id": "3406c569",
   "metadata": {},
   "source": [
    "# tools"
   ]
  },
  {
   "cell_type": "markdown",
   "id": "328fec22",
   "metadata": {},
   "source": [
    "#### query.py"
   ]
  },
  {
   "cell_type": "code",
   "execution_count": 1,
   "id": "da631be7",
   "metadata": {},
   "outputs": [],
   "source": [
    "from graphly.tools.query import get_sparql_type\n",
    "\n",
    "select = \"\"\"\n",
    "PREFIX dbo: <http://dbpedia.org/ontology/>\n",
    "SELECT ?city ?country\n",
    "WHERE {\n",
    "  ?city a dbo:City ;\n",
    "        dbo:country ?country .\n",
    "}\n",
    "LIMIT 5\n",
    "\"\"\"\n",
    "insert = \"\"\"\n",
    "PREFIX ex: <http://example.org/>\n",
    "INSERT DATA {\n",
    "  ex:Paris a ex:City ;\n",
    "           ex:country ex:France .\n",
    "}\n",
    "\"\"\"\n",
    "delete = \"\"\"\n",
    "PREFIX ex: <http://example.org/>\n",
    "DELETE DATA {\n",
    "  ex:Paris a ex:City ;\n",
    "           ex:country ex:France .\n",
    "}\n",
    "\"\"\"\n",
    "construct = \"\"\"\n",
    "PREFIX dbo: <http://dbpedia.org/ontology/>\n",
    "CONSTRUCT {\n",
    "  ?city a dbo:City ;\n",
    "        dbo:country ?country .\n",
    "}\n",
    "WHERE {\n",
    "  ?city a dbo:City ;\n",
    "        dbo:country ?country .\n",
    "}\n",
    "LIMIT 5\n",
    "\"\"\"\n",
    "clear = \"\"\"\n",
    "PREFIX ex: <http://example.org/>\n",
    "CLEAR GRAPH <http://example.org/myGraph>\n",
    "\"\"\"\n",
    "\n",
    "assert get_sparql_type(select) == 'SELECT'\n",
    "assert get_sparql_type(insert) == 'INSERT'\n",
    "assert get_sparql_type(delete) == 'DELETE'\n",
    "assert get_sparql_type(construct) == 'CONSTRUCT'\n",
    "assert get_sparql_type(clear) == 'CLEAR'"
   ]
  },
  {
   "cell_type": "markdown",
   "id": "cf4cecd0",
   "metadata": {},
   "source": [
    "#### triple.py"
   ]
  },
  {
   "cell_type": "code",
   "execution_count": 2,
   "id": "779c467c",
   "metadata": {},
   "outputs": [],
   "source": [
    "from graphly.schema import Prefixes, Prefix\n",
    "from graphly.tools import prepare_triple\n",
    "\n",
    "prefixes = Prefixes([Prefix('base', 'http://example')])\n",
    "\n",
    "assert prepare_triple(('base:123', 'http://example/label', 'hello world'), prefixes.shorts()) == \"base:123 <http://example/label> 'hello world' .\"\n",
    "assert prepare_triple(('base:123', 'http://example/label', 3), prefixes.shorts()) == \"base:123 <http://example/label> 3 .\""
   ]
  },
  {
   "cell_type": "markdown",
   "id": "47ad350c",
   "metadata": {},
   "source": [
    "#### uri.py"
   ]
  },
  {
   "cell_type": "code",
   "execution_count": 4,
   "id": "bbdf7abc",
   "metadata": {},
   "outputs": [],
   "source": [
    "from graphly.schema import Prefixes, Prefix, Resource\n",
    "from graphly.tools import prepare\n",
    "\n",
    "prefixes = Prefixes([Prefix('base', 'http://example')])\n",
    "\n",
    "assert prepare(None) == None\n",
    "assert prepare(3) == '3'\n",
    "assert prepare(\"3\") == \"'3'\"\n",
    "assert prepare(\"http://example\") == \"<http://example>\"\n",
    "assert prepare(\"base:hello\", prefixes.shorts()) == \"base:hello\"\n",
    "assert prepare(\"unknown:hello\", prefixes.shorts()) == \"'unknown:hello'\"\n",
    "\n",
    "r = Resource(\"test:123\", \"Name\")\n",
    "assert str(r) == 'test:123'"
   ]
  },
  {
   "cell_type": "markdown",
   "id": "ec000cb2",
   "metadata": {},
   "source": [
    "# schema"
   ]
  },
  {
   "cell_type": "markdown",
   "id": "f239600f",
   "metadata": {},
   "source": [
    "#### prefix.py"
   ]
  },
  {
   "cell_type": "code",
   "execution_count": 5,
   "id": "6cfdd963",
   "metadata": {},
   "outputs": [],
   "source": [
    "import json\n",
    "from graphly.schema import Prefix\n",
    "\n",
    "p = Prefix('short', 'long')\n",
    "\n",
    "ex = Prefix('ex', 'http://example.com/')\n",
    "\n",
    "assert ex.to_sparql() == \"PREFIX ex: <http://example.com/>\"\n",
    "assert ex.to_turtle() == \"@prefix ex: <http://example.com/> .\"\n",
    "assert ex.shorten(\"http://example.com/i123\") == \"ex:i123\"\n",
    "assert ex.lengthen(\"ex:i123\") == \"http://example.com/i123\"\n",
    "assert json.dumps(ex.to_dict()) == json.dumps(Prefix.from_dict(ex.to_dict()).to_dict())"
   ]
  },
  {
   "cell_type": "markdown",
   "id": "233da859",
   "metadata": {},
   "source": [
    "#### prefixes.py"
   ]
  },
  {
   "cell_type": "code",
   "execution_count": 6,
   "id": "609ac000",
   "metadata": {},
   "outputs": [],
   "source": [
    "ps = Prefixes()\n",
    "ps = Prefixes([Prefix('ex', 'http://example.com/')])\n",
    "assert ps.has('rdf') == False\n",
    "assert ps.has('ex') == True\n",
    "assert ps.shorten(\"http://example.com/i123\") == \"ex:i123\"\n",
    "assert ps.lengthen(\"ex:i123\") == \"http://example.com/i123\"\n",
    "\n",
    "test = Prefix('test', 'http://test.com/')\n",
    "ps.add(test)\n",
    "assert ps.has('test') == True\n",
    "assert ps.find('ex').short == 'ex'\n",
    "assert len(ps) == 2"
   ]
  },
  {
   "cell_type": "markdown",
   "id": "19884479",
   "metadata": {},
   "source": [
    "#### resource.py"
   ]
  },
  {
   "cell_type": "code",
   "execution_count": 1,
   "id": "d9d38044",
   "metadata": {},
   "outputs": [],
   "source": [
    "import json\n",
    "from graphly.schema import Resource\n",
    "\n",
    "r0 = Resource(\"test\")\n",
    "\n",
    "r1 = Resource(\"A String\", class_uri=\"xsd:string\", resource_type='literal')\n",
    "assert r1.get_text() == \"A String\"\n",
    "assert r1.get_text(comment=True) == \"A String\"\n",
    "assert json.dumps(r1.to_dict()) == json.dumps(Resource.from_dict(r1.to_dict()).to_dict())\n",
    "\n",
    "\n",
    "r2 = Resource(3, class_uri=\"xsd:integer\", resource_type=\"literal\")\n",
    "assert r2.get_text() == \"3\"\n",
    "assert r2.get_text(comment=True) == \"3\"\n",
    "assert json.dumps(r2.to_dict()) == json.dumps(Resource.from_dict(r2.to_dict()).to_dict())\n",
    "\n",
    "r3 = Resource(\"base:i123\", \"Entity Label\", \"Entity comment\", class_uri=\"crm:E21\")\n",
    "assert r3.get_text() == \"Entity Label\"\n",
    "assert r3.get_text(comment=True) == \"Entity Label: Entity comment\"\n",
    "assert json.dumps(r3.to_dict()) == json.dumps(Resource.from_dict(r3.to_dict()).to_dict())"
   ]
  },
  {
   "cell_type": "markdown",
   "id": "85f80378",
   "metadata": {},
   "source": [
    "#### property.py"
   ]
  },
  {
   "cell_type": "code",
   "execution_count": 2,
   "id": "43261892",
   "metadata": {},
   "outputs": [],
   "source": [
    "import json\n",
    "from graphly.schema import Resource, Property\n",
    "\n",
    "class1 = Resource(\"uri:class1\", \"Class1\")\n",
    "predicate = Resource(\"uri:predicate\", \"predicate name\", \"predicate comment\", \"owl:Property\")\n",
    "class2 = Resource(\"uri:class2\", \"Class2\")\n",
    "class3 = Resource(\"uri:class3\", \"Class3\")\n",
    "\n",
    "p0 = Property(\"uri:predicate\", \"predicate name\", \"predicate comment\")\n",
    "assert p0.get_key() == \"unknown-uri:predicate-unknown\"\n",
    "assert p0.is_mandatory() == False\n",
    "assert json.dumps(p0.to_dict()) == json.dumps(Property.from_dict(p0.to_dict()).to_dict())\n",
    "\n",
    "p1 = Property(\"uri:predicate\", \"predicate name\", \"predicate comment\", class1, class2, class3, 1, 0, 3)\n",
    "assert p1.get_key() == \"uri:class1-uri:predicate-uri:class2\"\n",
    "assert p1.is_mandatory() == False\n",
    "assert json.dumps(p1.to_dict()) == json.dumps(Property.from_dict(p1.to_dict()).to_dict())\n",
    "\n",
    "p2 = Property(\"uri:predicate\", \"predicate name\", \"predicate comment\", class1, None, class3, 1, 1, 3)\n",
    "assert p2.get_key() == \"uri:class1-uri:predicate-unknown\"\n",
    "assert p2.is_mandatory() == True\n",
    "assert json.dumps(p2.to_dict()) == json.dumps(Property.from_dict(p2.to_dict()).to_dict())"
   ]
  },
  {
   "cell_type": "markdown",
   "id": "8c9d57ef",
   "metadata": {},
   "source": [
    "#### statement.py"
   ]
  },
  {
   "cell_type": "code",
   "execution_count": 3,
   "id": "1254a45f",
   "metadata": {},
   "outputs": [],
   "source": [
    "import json\n",
    "from graphly.schema import Resource, Property, Statement, Prefixes, Prefix\n",
    "\n",
    "prefixes = Prefixes([\n",
    "    Prefix('owl', 'http://example/owl'),\n",
    "    Prefix('crm', 'http://example/crm'),\n",
    "])\n",
    "\n",
    "c1 = Resource(\"http://example/person\", \"Person\", class_uri=\"owl:Class\")\n",
    "p1 = Resource(\"http://example/p1\", \"Person1\", class_uri=\"crm:E21\")\n",
    "p2 = Resource(\"http://example/p2\", \"Person2\", class_uri=\"crm:E21\")\n",
    "prop = Property(\"http://example/predicate1\", \"Predicate1\", \"\", c1, c1, c1)\n",
    "\n",
    "s0 = Statement(p1, prop, p2)\n",
    "assert json.dumps(s0.to_dict()) == json.dumps(Statement.from_dict(s0.to_dict()).to_dict())"
   ]
  },
  {
   "cell_type": "markdown",
   "id": "85991e20",
   "metadata": {},
   "source": [
    "#### ontology.py"
   ]
  },
  {
   "cell_type": "code",
   "execution_count": 4,
   "id": "20fe6ab2",
   "metadata": {},
   "outputs": [],
   "source": [
    "from graphly.schema import Ontology\n",
    "\n",
    "o = Ontology(\"My Ontology\", \"onto\", \"http://my-ontology.org/\")\n",
    "\n",
    "assert o.name == \"My Ontology\"\n",
    "assert o.prefix.short == \"onto\"\n",
    "assert o.prefix.long == \"http://my-ontology.org/\""
   ]
  },
  {
   "cell_type": "markdown",
   "id": "93870dac",
   "metadata": {},
   "source": [
    "#### sparql.py"
   ]
  },
  {
   "cell_type": "code",
   "execution_count": 5,
   "id": "503ec4ad",
   "metadata": {},
   "outputs": [],
   "source": [
    "# schema/sparql.py\n",
    "\n",
    "from graphly.schema import Sparql\n",
    "\n",
    "z = Sparql('url', 'user', 'password')\n"
   ]
  },
  {
   "cell_type": "markdown",
   "id": "87a7909f",
   "metadata": {},
   "source": [
    "# sparql"
   ]
  },
  {
   "cell_type": "markdown",
   "id": "512fa648",
   "metadata": {},
   "source": [
    "#### allegrograph.py"
   ]
  },
  {
   "cell_type": "code",
   "execution_count": null,
   "id": "6151f267",
   "metadata": {},
   "outputs": [],
   "source": [
    "import os\n",
    "import dotenv\n",
    "dotenv.load_dotenv()\n",
    "from graphly.sparql import Allegrograph\n",
    "from graphly.schema import Prefix\n",
    "\n",
    "endpoint = Allegrograph(os.getenv('GRAPHLY_TEST_ALLEGROGRAPH_URL'), os.getenv('GRAPHLY_TEST_ALLEGROGRAPH_USERNAME'), os.getenv('GRAPHLY_TEST_ALLEGROGRAPH_PASSWORD'))\n",
    "endpoint.run('CLEAR ALL')\n",
    "\n",
    "endpoint.insert(('http://example/1', 'http://example/2', 'http://example/3'))\n",
    "result1 = endpoint.run('select * where { ?s ?p ?o . }')\n",
    "assert result1[0]['s'] == 'http://example/1'\n",
    "assert result1[0]['p'] == 'http://example/2'\n",
    "assert result1[0]['o'] == 'http://example/3'\n",
    "\n",
    "endpoint.delete(('http://example/1', 'http://example/2', 'http://example/3'))\n",
    "endpoint.insert(('http://example/1', 'http://example/2', 'http://example/4'))\n",
    "result2 = endpoint.run('select * where { ?s ?p ?o . }')\n",
    "assert result2[0]['s'] == 'http://example/1'\n",
    "assert result2[0]['p'] == 'http://example/2'\n",
    "assert result2[0]['o'] == 'http://example/4'\n",
    "\n",
    "endpoint.run('CLEAR ALL')\n",
    "n_quad = \"\"\"\n",
    "<http://example/10> <http://example/20> <http://example/30> .\n",
    "<http://example/40> <http://example/50> <http://example/60> <http://graph> .\n",
    "\"\"\"\n",
    "turtle = f\"\"\"\n",
    "{Prefix(\"test\", \"http://test/\").to_turtle()}\n",
    "test:123 test:456 test:789 .\n",
    "test:12 test:45 <http://example/78> .\n",
    "test:12 test:99 'hello world' .\n",
    "\"\"\"\n",
    "endpoint.upload_nquads(n_quad)\n",
    "endpoint.upload_turtle(turtle, 'http://graph/turtle')\n",
    "dump_lines = endpoint.dump().split('\\n')\n",
    "assert \"<http://example/10> <http://example/20> <http://example/30> .\" in dump_lines\n",
    "assert \"<http://example/40> <http://example/50> <http://example/60> <http://graph> .\" in dump_lines\n",
    "assert \"<http://test/123> <http://test/456> <http://test/789> <http://graph/turtle> .\" in dump_lines\n",
    "assert \"<http://test/12> <http://test/45> <http://example/78> <http://graph/turtle> .\" in dump_lines\n",
    "assert \"<http://test/12> <http://test/99> 'hello world' <http://graph/turtle> .\" in dump_lines or \\\n",
    "       '<http://test/12> <http://test/99> \"hello world\" <http://graph/turtle> .'\n"
   ]
  },
  {
   "cell_type": "markdown",
   "id": "6eba9421",
   "metadata": {},
   "source": [
    "#### fuseki.py"
   ]
  },
  {
   "cell_type": "code",
   "execution_count": 6,
   "id": "95aacd6d",
   "metadata": {},
   "outputs": [
    {
     "name": "stdout",
     "output_type": "stream",
     "text": [
      "> Uploading 1 lines (0 / 3)\n",
      "> Uploading (0 / 4)\n"
     ]
    }
   ],
   "source": [
    "import os\n",
    "import dotenv\n",
    "dotenv.load_dotenv()\n",
    "from graphly.sparql import Fuseki\n",
    "from graphly.schema import Prefix\n",
    "\n",
    "endpoint = Fuseki(os.getenv('GRAPHLY_TEST_FUSEKI_URL'), os.getenv('GRAPHLY_TEST_FUSEKI_USERNAME'), os.getenv('GRAPHLY_TEST_FUSEKI_PASSWORD'))\n",
    "endpoint.run('CLEAR ALL')\n",
    "\n",
    "endpoint.insert(('http://example/1', 'http://example/2', 'http://example/3'))\n",
    "result1 = endpoint.run('select * where { ?s ?p ?o . }')\n",
    "assert result1[0]['s'] == 'http://example/1'\n",
    "assert result1[0]['p'] == 'http://example/2'\n",
    "assert result1[0]['o'] == 'http://example/3'\n",
    "\n",
    "endpoint.delete(('http://example/1', 'http://example/2', 'http://example/3'))\n",
    "endpoint.insert(('http://example/1', 'http://example/2', 'http://example/4'))\n",
    "result2 = endpoint.run('select * where { ?s ?p ?o . }')\n",
    "assert result2[0]['s'] == 'http://example/1'\n",
    "assert result2[0]['p'] == 'http://example/2'\n",
    "assert result2[0]['o'] == 'http://example/4'\n",
    "\n",
    "endpoint.run('CLEAR ALL')\n",
    "n_quad = \"\"\"\n",
    "<http://example/10> <http://example/20> <http://example/30> .\n",
    "<http://example/40> <http://example/50> <http://example/60> <http://graph> .\n",
    "\"\"\"\n",
    "turtle = f\"\"\"\n",
    "{Prefix(\"test\", \"http://test/\").to_turtle()}\n",
    "test:123 test:456 test:789 .\n",
    "test:12 test:45 <http://example/78> .\n",
    "test:12 test:99 'hello world' .\n",
    "\"\"\"\n",
    "endpoint.upload_nquads(n_quad)\n",
    "endpoint.upload_turtle(turtle, 'http://graph/turtle')\n",
    "dump_lines = endpoint.dump().split('\\n')\n",
    "assert \"<http://example/10> <http://example/20> <http://example/30> .\" in dump_lines\n",
    "assert \"<http://example/40> <http://example/50> <http://example/60> <http://graph> .\" in dump_lines\n",
    "assert \"<http://test/123> <http://test/456> <http://test/789> <http://graph/turtle> .\" in dump_lines\n",
    "assert \"<http://test/12> <http://test/45> <http://example/78> <http://graph/turtle> .\" in dump_lines\n",
    "assert \"<http://test/12> <http://test/99> 'hello world' <http://graph/turtle> .\" in dump_lines\n"
   ]
  },
  {
   "cell_type": "markdown",
   "id": "892cc6f9",
   "metadata": {},
   "source": [
    "#### graphdb.py"
   ]
  },
  {
   "cell_type": "code",
   "execution_count": null,
   "id": "c82584cb",
   "metadata": {},
   "outputs": [],
   "source": [
    "import os\n",
    "import dotenv\n",
    "dotenv.load_dotenv()\n",
    "from graphly.sparql import GraphDB\n",
    "from graphly.schema import Prefix\n",
    "\n",
    "endpoint = GraphDB(os.getenv('GRAPHLY_TEST_GRAPHDB_URL'), os.getenv('GRAPHLY_TEST_GRAPHDB_USERNAME'), os.getenv('GRAPHLY_TEST_GRAPHDB_PASSWORD'))\n",
    "endpoint.run('CLEAR ALL')\n",
    "\n",
    "endpoint.insert(('http://example/1', 'http://example/2', 'http://example/3'))\n",
    "result1 = endpoint.run('select * where { ?s ?p ?o . }')\n",
    "found = False\n",
    "for triple in result1:\n",
    "    if triple['s'] == 'http://example/1' and triple['p'] == 'http://example/2' and triple['o'] == 'http://example/3':\n",
    "        found = True\n",
    "        break\n",
    "assert found\n",
    "\n",
    "endpoint.delete(('http://example/1', 'http://example/2', 'http://example/3'))\n",
    "endpoint.insert(('http://example/1', 'http://example/2', 'http://example/4'))\n",
    "result2 = endpoint.run('select * where { ?s ?p ?o . }')\n",
    "found = False\n",
    "for triple in result2:\n",
    "    if triple['s'] == 'http://example/1' and triple['p'] == 'http://example/2' and triple['o'] == 'http://example/4':\n",
    "        found = True\n",
    "        break\n",
    "assert found\n",
    "\n",
    "endpoint.run('CLEAR ALL')\n",
    "n_quad = \"\"\"\n",
    "<http://example/10> <http://example/20> <http://example/30> .\n",
    "<http://example/40> <http://example/50> <http://example/60> <http://graph> .\n",
    "\"\"\"\n",
    "turtle = f\"\"\"\n",
    "{Prefix(\"test\", \"http://test/\").to_turtle()}\n",
    "test:123 test:456 test:789 .\n",
    "test:12 test:45 <http://example/78> .\n",
    "test:12 test:99 'hello world' .\n",
    "\"\"\"\n",
    "endpoint.upload_nquads(n_quad)\n",
    "endpoint.upload_turtle(turtle, 'http://graph/turtle')\n",
    "dump_lines = endpoint.dump().split('\\n')\n",
    "assert \"<http://example/10> <http://example/20> <http://example/30> .\" in dump_lines\n",
    "assert \"<http://example/40> <http://example/50> <http://example/60> <http://graph> .\" in dump_lines\n",
    "assert \"<http://test/123> <http://test/456> <http://test/789> <http://graph/turtle> .\" in dump_lines\n",
    "assert \"<http://test/12> <http://test/45> <http://example/78> <http://graph/turtle> .\" in dump_lines\n",
    "assert \"<http://test/12> <http://test/99> 'hello world' <http://graph/turtle> .\" in dump_lines or \\\n",
    "       '<http://test/12> <http://test/99> \"hello world\" <http://graph/turtle> .'\n"
   ]
  },
  {
   "cell_type": "markdown",
   "id": "86afea23",
   "metadata": {},
   "source": [
    "# schema"
   ]
  },
  {
   "cell_type": "markdown",
   "id": "d0b23913",
   "metadata": {},
   "source": [
    "#### graph.py"
   ]
  },
  {
   "cell_type": "code",
   "execution_count": 7,
   "id": "4476d2c4",
   "metadata": {},
   "outputs": [
    {
     "name": "stdout",
     "output_type": "stream",
     "text": [
      "> Uploading (0 / 4)\n",
      "> Uploading (0 / 4)\n"
     ]
    }
   ],
   "source": [
    "from os import getenv\n",
    "from dotenv import load_dotenv\n",
    "from graphly.schema import Graph, Prefix, Prefixes\n",
    "from graphly.sparql import Fuseki\n",
    "load_dotenv()\n",
    "\n",
    "prefix = Prefix('test', 'http://example.com/')\n",
    "prefixes = Prefixes([prefix])\n",
    "sparql = Fuseki(getenv('GRAPHLY_TEST_FUSEKI_URL'), getenv('GRAPHLY_TEST_FUSEKI_USERNAME'), getenv('GRAPHLY_TEST_FUSEKI_PASSWORD'))\n",
    "\n",
    "g = Graph(sparql)\n",
    "\n",
    "assert g.sparql_begin == ''\n",
    "assert g.sparql_end == ''\n",
    "\n",
    "g.run('CLEAR ALL')\n",
    "triples = [(\"test:i1\", \"test:p1\", \"http://example.com/i2\"), (\"test:i1\", \"test:p2\", \"http://example.com/i3\")]\n",
    "g.insert(triples, prefixes)\n",
    "g.delete((\"test:i1\", \"test:p1\", \"?o\"), prefixes)    \n",
    "result = g.run('select ?s ?p ?o where { ?s ?p ?o .}')\n",
    "assert len(result) == 1\n",
    "assert result[0]['o'] == 'http://example.com/i3'\n",
    "\n",
    "result = g.dump_dict(prefixes)\n",
    "assert len(result) == 1\n",
    "assert result[0]['o'] == 'test:i3'\n",
    "\n",
    "result = g.dump_turtle(prefixes)\n",
    "assert result.endswith('test:i1 test:p2 test:i3 .\\n')\n",
    "\n",
    "result = g.dump_nquad(prefixes)\n",
    "assert result == \"<http://example.com/i1> <http://example.com/p2> <http://example.com/i3> .\\n\"\n",
    "\n",
    "g.run('CLEAR ALL')\n",
    "turtle = \"\"\"\n",
    "@prefix test: <http://example.com/>. \n",
    "\n",
    "test:e1 test:p1 test:e2;\n",
    "        test:p2 test:e3;\n",
    "\"\"\"\n",
    "g.upload_turtle(turtle)\n",
    "result = g.dump_dict(prefixes)\n",
    "assert len(result) == 2\n",
    "assert result[0]['o'] == 'test:e3'\n",
    "assert result[0]['p'] == 'test:p2'\n",
    "assert result[1]['o'] == 'test:e2'\n",
    "assert result[1]['p'] == 'test:p1'\n",
    "\n",
    "\n",
    "\n",
    "g = Graph(sparql, \"test:graph\", prefixes)\n",
    "\n",
    "assert g.sparql_begin == 'GRAPH test:graph {'\n",
    "assert g.sparql_end == '}'\n",
    "g.run('CLEAR ALL', prefixes)\n",
    "triples = [(\"test:i1\", \"test:p1\", \"http://example.com/i2\"), (\"test:i1\", \"test:p2\", \"http://example.com/i3\")]\n",
    "g.insert(triples, prefixes)\n",
    "g.delete((\"test:i1\", \"test:p1\", \"?o\"), prefixes)    \n",
    "result = g.run('select ?s ?p ?o where { graph test:graph { ?s ?p ?o .}}', prefixes)\n",
    "assert len(result) == 1\n",
    "assert result[0]['o'] == 'test:i3'\n",
    "\n",
    "result = g.dump_dict(prefixes)\n",
    "assert len(result) == 1\n",
    "assert result[0]['o'] == 'test:i3'\n",
    "\n",
    "result = g.dump_turtle(prefixes)\n",
    "assert result.endswith('test:i1 test:p2 test:i3 .\\n')\n",
    "\n",
    "result = g.dump_nquad(prefixes)\n",
    "assert result == \"<http://example.com/i1> <http://example.com/p2> <http://example.com/i3> <http://example.com/graph> .\\n\"\n",
    "\n",
    "g.run('CLEAR ALL')\n",
    "turtle = \"\"\"\n",
    "@prefix test: <http://example.com/>. \n",
    "\n",
    "test:e1 test:p1 test:e2;\n",
    "        test:p2 test:e3;\n",
    "\"\"\"\n",
    "g.upload_turtle(turtle)\n",
    "result = g.dump_dict(prefixes)\n",
    "assert len(result) == 2\n",
    "assert result[0]['o'] == 'test:e3'\n",
    "assert result[0]['p'] == 'test:p2'\n",
    "assert result[1]['o'] == 'test:e2'\n",
    "assert result[1]['p'] == 'test:p1'"
   ]
  },
  {
   "cell_type": "markdown",
   "id": "f1938a24",
   "metadata": {},
   "source": [
    "#### model.py"
   ]
  },
  {
   "cell_type": "code",
   "execution_count": 8,
   "id": "ee062db4",
   "metadata": {},
   "outputs": [],
   "source": [
    "from os import getenv\n",
    "from dotenv import load_dotenv\n",
    "from graphly.schema import Model, Graph, Prefix, Prefixes\n",
    "from graphly.sparql import Fuseki\n",
    "load_dotenv()\n",
    "\n",
    "prefix = Prefix('test', 'http://example.com/')\n",
    "prefixes = Prefixes([prefix])\n",
    "sparql = Fuseki(getenv('GRAPHLY_TEST_FUSEKI_URL'), getenv('GRAPHLY_TEST_FUSEKI_USERNAME'), getenv('GRAPHLY_TEST_FUSEKI_PASSWORD'))\n",
    "graph = Graph(sparql, '', prefixes)\n",
    "graph.run('CLEAR ALL', prefixes)\n",
    "triples = [\n",
    "    ('test:e1', 'test:p1', 'test:c1'),\n",
    "    ('test:c1', 'test:p2', 'Class1'),\n",
    "    ('test:e1', 'test:p2', 'E1 label'),\n",
    "    ('test:e1', 'test:p3', 'E1 Comment'),\n",
    "    ('test:e1', 'test:p4', 'Something'),\n",
    "]\n",
    "graph.insert(triples, prefixes)\n",
    "\n",
    "model = Model(type_property='test:p1', label_property='test:p2', comment_property='test:p3')\n",
    "model.update(graph, prefixes)\n",
    "\n",
    "assert model.classes[0].resource_type == 'entity'\n",
    "assert model.classes[0].uri == 'test:c1'\n",
    "assert model.classes[0].label == 'Class1'\n",
    "assert model.classes[0].class_uri == 'owl:Class'\n",
    "\n",
    "assert model.properties[0].domain.uri == \"test:c1\"\n",
    "assert model.properties[0].uri == \"test:p4\"\n",
    "assert model.properties[0].range.uri == \"xsd:string\""
   ]
  },
  {
   "cell_type": "markdown",
   "id": "036dd978",
   "metadata": {},
   "source": [
    "# models"
   ]
  },
  {
   "cell_type": "markdown",
   "id": "34363eb4",
   "metadata": {},
   "source": [
    "#### shacl.py"
   ]
  },
  {
   "cell_type": "code",
   "execution_count": 9,
   "id": "784532cd",
   "metadata": {},
   "outputs": [
    {
     "name": "stdout",
     "output_type": "stream",
     "text": [
      "> Uploading (0 / 128)\n"
     ]
    }
   ],
   "source": [
    "from os import getenv, environ\n",
    "from dotenv import load_dotenv\n",
    "from graphly.models import SHACL\n",
    "from graphly.schema import Graph, Prefix, Prefixes\n",
    "from graphly.sparql import Fuseki\n",
    "load_dotenv()\n",
    "\n",
    "environ['GRAPHLY_MODE'] = 'normal'\n",
    "\n",
    "prefix_test = Prefix('test', 'http://example.com/')\n",
    "prefix_shacl = Prefix('sh', 'http://www.w3.org/ns/shacl#')\n",
    "prefix_xsd = Prefix('xsd', 'http://www.w3.org/2001/XMLSchema#')\n",
    "prefix_crm = Prefix('crm', 'http://www.cidoc-crm.org/cidoc-crm/')\n",
    "prefix_rdf = Prefix('rdf', 'http://www.w3.org/1999/02/22-rdf-syntax-ns#')\n",
    "prefixes = Prefixes([prefix_test, prefix_shacl, prefix_crm, prefix_xsd, prefix_rdf])\n",
    "sparql = Fuseki(getenv('GRAPHLY_TEST_FUSEKI_URL'), getenv('GRAPHLY_TEST_FUSEKI_USERNAME'), getenv('GRAPHLY_TEST_FUSEKI_PASSWORD'))\n",
    "graph = Graph(sparql, 'test:shacl', prefixes)\n",
    "graph.run('CLEAR ALL', prefixes)\n",
    "\n",
    "shacl = \"\"\"\n",
    "@prefix sdh-shacl: <https://sdhss.org/shacl/profiles/>. \n",
    "@prefix sh: <http://www.w3.org/ns/shacl#> .  \n",
    "@prefix xsd: <http://www.w3.org/2001/XMLSchema#> .\n",
    "@prefix rdf: <http://www.w3.org/1999/02/22-rdf-syntax-ns#> .\n",
    "@prefix rdfs: \t<http://www.w3.org/2000/01/rdf-schema#> .  \n",
    "@prefix sdh-short: <https://sdhss.org/ontology/shortcuts/>.\n",
    "@prefix sdh: <https://sdhss.org/ontology/core/>.\n",
    "@prefix crm: <http://www.cidoc-crm.org/cidoc-crm/>. \n",
    "\n",
    "    sdh-shacl:crm_E21_Shape a sh:NodeShape ; \n",
    "        sh:targetClass crm:E21 ;\n",
    "        sh:name \"Person\" ;\n",
    "\n",
    "        sh:property [\n",
    "            sh:path rdfs:label ;\n",
    "            sh:name \"Label\";\n",
    "            sh:datatype xsd:string;\n",
    "            sh:order 1;\n",
    "            sh:minCount 1;\n",
    "            sh:maxCount 1;\n",
    "        ];\n",
    "\n",
    "        sh:property [\n",
    "            sh:path rdfs:comment ;\n",
    "            sh:name \"Description\";\n",
    "            sh:datatype rdf:HTML;\n",
    "            sh:order 2;\n",
    "            sh:minCount 1;\n",
    "        ];  \n",
    "         \n",
    "        sh:property [\n",
    "            sh:path sdh-short:P2 ;\n",
    "            sh:name \"has birth date\";\n",
    "            sh:datatype xsd:string;\n",
    "            sh:maxCount 1;\n",
    "            sh:order 3; # verify what happens if new properties\n",
    "        ];                   \n",
    "        . \n",
    "\n",
    "    sdh-shacl:crm_E67_Shape a sh:NodeShape ;\n",
    "        sh:targetClass crm:E67 ;\n",
    "        sh:name \"Birth\" ;\n",
    "\n",
    "        sh:property [\n",
    "            sh:path rdfs:label ;\n",
    "            sh:name \"Label\";\n",
    "            sh:datatype xsd:string;\n",
    "            sh:order 1;\n",
    "            sh:maxCount 1;\n",
    "        ];\n",
    "\n",
    "        sh:property [\n",
    "            sh:path rdfs:comment ;\n",
    "            sh:name \"Description\";\n",
    "            sh:datatype rdf:HTML;\n",
    "            sh:order 2;\n",
    "        ];  \n",
    "            \n",
    "        sh:property [\n",
    "            sh:path crm:P8 ;\n",
    "            sh:name \"took place on or within\";\n",
    "            sh:class sdh:C17 ;\n",
    "            sh:order 3;\n",
    "        ];\n",
    "                        \n",
    "        sh:property [\n",
    "            sh:path crm:P98 ;\n",
    "            sh:name \"brought into life\";\n",
    "            sh:class crm:E21 ;\n",
    "            sh:order 4;\n",
    "        ];\n",
    "                        \n",
    "        sh:property [\n",
    "            sh:path sdh:P6 ;\n",
    "            sh:name \"took place at\";\n",
    "            sh:class sdh:C13 ;\n",
    "            sh:order 5;\n",
    "        ];\n",
    "                    \n",
    "        sh:property [\n",
    "            sh:path sdh-short:P1 ;\n",
    "            sh:name \"at some time within\";\n",
    "            sh:datatype xsd:string;\n",
    "            sh:order 6;\n",
    "            sh:maxCount 1;\n",
    "        ];\n",
    "\n",
    "        sh:property [\n",
    "            sh:path sdh-short:P4 ;\n",
    "            sh:name \"begins on\";\n",
    "            sh:datatype xsd:string;\n",
    "            sh:order 7;\n",
    "            sh:maxCount 1;\n",
    "        ];\n",
    "\n",
    "        sh:property [\n",
    "            sh:path sdh-short:P7 ;\n",
    "            sh:name \"ends on\";\n",
    "            sh:datatype xsd:string;\n",
    "            sh:order 8;\n",
    "            sh:maxCount 1;\n",
    "        ];\n",
    "\n",
    "        sh:property [\n",
    "            sh:path sdh-short:P3 ;\n",
    "            sh:name \"begins after\";\n",
    "            sh:datatype xsd:string;\n",
    "            sh:order 9;\n",
    "            sh:maxCount 1;\n",
    "        ];\n",
    "\n",
    "        sh:property [\n",
    "            sh:path sdh-short:P5 ;\n",
    "            sh:name \"begins before\";\n",
    "            sh:datatype xsd:string;\n",
    "            sh:order 10;\n",
    "            sh:maxCount 1;\n",
    "        ];\n",
    "\n",
    "        sh:property [\n",
    "            sh:path sdh-short:P6 ;\n",
    "            sh:name \"ends after\";\n",
    "            sh:datatype xsd:string;\n",
    "            sh:order 11;\n",
    "            sh:maxCount 1;\n",
    "        ];\n",
    "\n",
    "        sh:property [\n",
    "            sh:path sdh-short:P8 ;\n",
    "            sh:name \"ends before\";\n",
    "            sh:datatype xsd:string;\n",
    "            sh:order 12;\n",
    "            sh:maxCount 1;\n",
    "        ];   \n",
    "        . \n",
    "\"\"\"\n",
    "\n",
    "graph.upload_turtle(shacl)\n",
    "\n",
    "model_shacl = SHACL()\n",
    "model_shacl.update(graph, prefixes)\n",
    "\n",
    "classes_uris = [c.uri for c in model_shacl.classes]\n",
    "prop_uris = [p.uri for p in model_shacl.properties]\n",
    "\n",
    "assert 'crm:E21' in classes_uris\n",
    "assert 'crm:E67' in classes_uris\n",
    "assert 'xsd:string' in classes_uris\n",
    "assert 'rdf:HTML' in classes_uris\n",
    "\n",
    "assert 'crm:P8' in prop_uris\n",
    "assert 'crm:P98' in prop_uris\n",
    "assert 'https://sdhss.org/ontology/core/P6' in prop_uris\n",
    "\n",
    "crm_P98 = next(p for p in model_shacl.properties if p.uri == 'crm:P98')\n",
    "\n",
    "assert crm_P98.card_of.uri == 'crm:E67'\n",
    "assert crm_P98.domain.uri == 'crm:E67'\n",
    "assert crm_P98.range.uri == 'crm:E21'"
   ]
  },
  {
   "cell_type": "markdown",
   "id": "fc6f43f7",
   "metadata": {},
   "source": [
    "# ontologies"
   ]
  },
  {
   "cell_type": "markdown",
   "id": "ce6b8004",
   "metadata": {},
   "source": [
    "#### crm.py"
   ]
  },
  {
   "cell_type": "code",
   "execution_count": 10,
   "id": "3f9e51d7",
   "metadata": {},
   "outputs": [],
   "source": [
    "from graphly.ontologies import CRM\n",
    "\n",
    "assert CRM.E21_Person.uri == 'crm:E21'\n",
    "assert CRM.P98_Brought_Into_Life.uri == 'crm:P98'"
   ]
  },
  {
   "cell_type": "markdown",
   "id": "c845de8d",
   "metadata": {},
   "source": [
    "#### sdh.py"
   ]
  },
  {
   "cell_type": "code",
   "execution_count": 11,
   "id": "3e058fae",
   "metadata": {},
   "outputs": [],
   "source": [
    "from graphly.ontologies import SDH\n",
    "\n",
    "assert SDH.C13_Geographical_Place.uri == \"sdh:C13\"\n",
    "assert SDH.P6_Took_Place_At.uri == 'sdh:P6'"
   ]
  },
  {
   "cell_type": "markdown",
   "id": "2583a7d9",
   "metadata": {},
   "source": [
    "---"
   ]
  }
 ],
 "metadata": {
  "kernelspec": {
   "display_name": "Python 3",
   "language": "python",
   "name": "python3"
  },
  "language_info": {
   "codemirror_mode": {
    "name": "ipython",
    "version": 3
   },
   "file_extension": ".py",
   "mimetype": "text/x-python",
   "name": "python",
   "nbconvert_exporter": "python",
   "pygments_lexer": "ipython3",
   "version": "3.10.16"
  }
 },
 "nbformat": 4,
 "nbformat_minor": 5
}
